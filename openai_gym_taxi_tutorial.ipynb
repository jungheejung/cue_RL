{
  "nbformat": 4,
  "nbformat_minor": 0,
  "metadata": {
    "colab": {
      "provenance": [],
      "include_colab_link": true
    },
    "kernelspec": {
      "name": "python3",
      "display_name": "Python 3"
    }
  },
  "cells": [
    {
      "cell_type": "markdown",
      "metadata": {
        "id": "view-in-github",
        "colab_type": "text"
      },
      "source": [
        "<a href=\"https://colab.research.google.com/github/jungheejung/cue_RL/blob/main/openai_gym_taxi_tutorial.ipynb\" target=\"_parent\"><img src=\"https://colab.research.google.com/assets/colab-badge.svg\" alt=\"Open In Colab\"/></a>"
      ]
    },
    {
      "cell_type": "markdown",
      "metadata": {
        "id": "A8lDQuQEnS8_"
      },
      "source": [
        "# Tutorial: An Introduction to Reinforcement Learning Using OpenAI Gym's Taxi 🚕"
      ]
    },
    {
      "cell_type": "markdown",
      "metadata": {
        "id": "ziMM6qgmncE5"
      },
      "source": [
        "In this introductory tutorial, we'll apply reinforcement learning (RL) to train an agent to solve the ['Taxi' environment from OpenAI Gym](https://gym.openai.com/envs/Taxi-v3/).\n",
        "\n",
        "We'll cover:\n",
        "\n",
        "-   A basic introduction to RL\n",
        "-   Setting up OpenAI Gym & Taxi\n",
        "-   Using the Q-learning algorithm to train our Taxi agent"
      ]
    },
    {
      "cell_type": "markdown",
      "metadata": {
        "id": "HfYSvJF6ocqk"
      },
      "source": [
        "# Before we start, what's 'Taxi'?\n",
        "\n",
        "Taxi is one of many environments available on OpenAI Gym. These environments are used to develop and benchmark reinforcement learning algorithms.\n",
        "\n",
        "The goal of Taxi is to pick-up passengers and drop them off at the destination in the least amount of moves. In this tutorial, you'll start with a taxi agent that takes actions randomly:\n",
        "\n",
        "![random agent](https://drive.google.com/uc?id=1l0XizDh9eGP3gVNCjJHrC0M3DeCWI8Fj)\n",
        "\n",
        "…and successfully apply reinforcement learning to solve the environment:\n",
        "\n",
        "![trained agent](https://drive.google.com/uc?id=1a-OeLhXi3W-kvQuhGRyJ1dOSw4vrIBxr)"
      ]
    },
    {
      "cell_type": "markdown",
      "metadata": {
        "id": "aZUF3oE-o889"
      },
      "source": [
        "# 💡 An introduction to Reinforcement Learning\n",
        "\n",
        "Think about how you might teach a dog a new trick, like telling it to sit:\n",
        "\n",
        "-   If it performs the trick correctly (it sits), you'll reward it with a treat (positive feedback) ✔️\n",
        "-   If it doesn't sit correctly, it doesn't get a treat (negative feedback) ❌\n",
        "\n",
        "By continuing to do things that lead to positive outcomes, the dog will learn to sit when it hears the command in order to get its treat. Reinforcement learning is a subdomain of machine learning which involves training an 'agent' (the dog) to learn the correct sequences of actions to take (sitting) on its environment (in response to the command 'sit') in order to maximise its reward (getting a treat). This can be illustrated more formally as:\n",
        "\n",
        "![sutton barto rl](https://www.gocoder.one/static/RL-diagram-b3654cd3d5cc0e07a61a214977038f01.png \"Reinforcement Learning diagram\")  \n",
        "Source: [Sutton & Barto](http://incompleteideas.net/book/bookdraft2017nov5.pdf)"
      ]
    },
    {
      "cell_type": "markdown",
      "metadata": {
        "id": "2aWkaLM_o2pH"
      },
      "source": [
        "# 🏋️ Installing OpenAI Gym and Taxi\n",
        "\n",
        "We'll be using the 'Taxi-v3' environment for this tutorial. To install gym (and numpy for later), run the cell below:\n"
      ]
    },
    {
      "cell_type": "code",
      "metadata": {
        "id": "cyjebRSHnK1F",
        "colab": {
          "base_uri": "https://localhost:8080/"
        },
        "outputId": "13a202bd-0bf6-4b44-ed3e-1c24cc8f42fe"
      },
      "source": [
        "!pip install gymnasium\n",
        "!pip install numpy\n",
        "!pip install pyvirtualdisplay\n"
      ],
      "execution_count": 1,
      "outputs": [
        {
          "output_type": "stream",
          "name": "stdout",
          "text": [
            "Collecting gymnasium\n",
            "  Downloading gymnasium-0.29.1-py3-none-any.whl (953 kB)\n",
            "\u001b[?25l     \u001b[90m━━━━━━━━━━━━━━━━━━━━━━━━━━━━━━━━━━━━━━━━\u001b[0m \u001b[32m0.0/953.9 kB\u001b[0m \u001b[31m?\u001b[0m eta \u001b[36m-:--:--\u001b[0m\r\u001b[2K     \u001b[91m━━━━━━\u001b[0m\u001b[90m╺\u001b[0m\u001b[90m━━━━━━━━━━━━━━━━━━━━━━━━━━━━━━━━━\u001b[0m \u001b[32m143.4/953.9 kB\u001b[0m \u001b[31m4.1 MB/s\u001b[0m eta \u001b[36m0:00:01\u001b[0m\r\u001b[2K     \u001b[91m━━━━━━━━━━━━━━━━━━━━━━━━━━━━━━━━━━━━━━━\u001b[0m\u001b[91m╸\u001b[0m \u001b[32m952.3/953.9 kB\u001b[0m \u001b[31m15.6 MB/s\u001b[0m eta \u001b[36m0:00:01\u001b[0m\r\u001b[2K     \u001b[90m━━━━━━━━━━━━━━━━━━━━━━━━━━━━━━━━━━━━━━━━\u001b[0m \u001b[32m953.9/953.9 kB\u001b[0m \u001b[31m12.9 MB/s\u001b[0m eta \u001b[36m0:00:00\u001b[0m\n",
            "\u001b[?25hRequirement already satisfied: numpy>=1.21.0 in /usr/local/lib/python3.10/dist-packages (from gymnasium) (1.23.5)\n",
            "Requirement already satisfied: cloudpickle>=1.2.0 in /usr/local/lib/python3.10/dist-packages (from gymnasium) (2.2.1)\n",
            "Requirement already satisfied: typing-extensions>=4.3.0 in /usr/local/lib/python3.10/dist-packages (from gymnasium) (4.5.0)\n",
            "Collecting farama-notifications>=0.0.1 (from gymnasium)\n",
            "  Downloading Farama_Notifications-0.0.4-py3-none-any.whl (2.5 kB)\n",
            "Installing collected packages: farama-notifications, gymnasium\n",
            "Successfully installed farama-notifications-0.0.4 gymnasium-0.29.1\n",
            "Requirement already satisfied: numpy in /usr/local/lib/python3.10/dist-packages (1.23.5)\n",
            "Collecting pyvirtualdisplay\n",
            "  Downloading PyVirtualDisplay-3.0-py3-none-any.whl (15 kB)\n",
            "Installing collected packages: pyvirtualdisplay\n",
            "Successfully installed pyvirtualdisplay-3.0\n"
          ]
        }
      ]
    },
    {
      "cell_type": "markdown",
      "metadata": {
        "id": "dAJK0BtorfEO"
      },
      "source": [
        "Next, import gym (and additional libraries that will be useful for later):"
      ]
    },
    {
      "cell_type": "code",
      "metadata": {
        "id": "m7As7qh4navx"
      },
      "source": [
        "import gymnasium as gym\n",
        "import numpy as np\n",
        "import random\n",
        "\n",
        "# used to help with visualizing in Colab\n",
        "from IPython.display import display, clear_output\n",
        "from time import sleep"
      ],
      "execution_count": null,
      "outputs": []
    },
    {
      "cell_type": "markdown",
      "metadata": {
        "id": "TyMhgh3RsLWk"
      },
      "source": [
        "Gym contains a large library of different environments. Let's create the Taxi-v3 environment:"
      ]
    },
    {
      "cell_type": "code",
      "metadata": {
        "id": "VpYHWA95y_QJ"
      },
      "source": [
        "# create Taxi environment\n",
        "env = gym.make('Taxi-v3')"
      ],
      "execution_count": null,
      "outputs": []
    },
    {
      "cell_type": "markdown",
      "metadata": {
        "id": "AWMjVABSsnWT"
      },
      "source": [
        "# 🎲 Random Agent\n",
        "\n",
        "We'll start by implementing an agent that doesn't learn at all. Instead, it will select actions at random. This will be our baseline.\n",
        "\n",
        "The first step is to give our agent the initial observation of the state. A state tells our agent what the current environment looks like. In Taxi, a state defines the current positions of the taxi, passenger, and pick-up and drop-off locations. Below are examples of three different states for Taxi:\n",
        "\n",
        "![taxi states](https://www.gocoder.one/static/taxi-states-0aad1b011cf3fe07b571712f2123335c.png \"Different Taxi states\")\n",
        "\n",
        "Note: Yellow = taxi, Blue letter = pickup location, Purple letter = drop-off destination\n",
        "\n",
        "To get the initial state:"
      ]
    },
    {
      "cell_type": "code",
      "metadata": {
        "id": "mNlV-YvdnlOH",
        "outputId": "08e2b17e-dd54-44a5-a954-15c2228bb1b6",
        "colab": {
          "base_uri": "https://localhost:8080/"
        }
      },
      "source": [
        "# create a new instance of taxi, and get the initial state\n",
        "state = env.reset()\n",
        "\n",
        "print(f\"Initial state: {state}\")"
      ],
      "execution_count": null,
      "outputs": [
        {
          "output_type": "stream",
          "name": "stdout",
          "text": [
            "Initial state: (147, {'prob': 1.0, 'action_mask': array([1, 1, 1, 0, 0, 0], dtype=int8)})\n"
          ]
        }
      ]
    },
    {
      "cell_type": "markdown",
      "metadata": {
        "id": "WM7GRNHnvRaH"
      },
      "source": [
        "Next, we'll run a for-loop to cycle through the game. At each iteration, our agent will:\n",
        "\n",
        "1. Make a random action from the action space (0 - south, 1 - north, 2 - east, 3 - west, 4 - pick-up, 5 - drop-off)\n",
        "2. Receive the new state\n",
        "\n",
        "Here's our random agent:"
      ]
    },
    {
      "cell_type": "code",
      "metadata": {
        "id": "aycxOXzQnoLU",
        "outputId": "23b40f40-ecf0-4b55-d2ab-09e10abcee00",
        "colab": {
          "base_uri": "https://localhost:8080/"
        }
      },
      "source": [
        "num_steps = 99\n",
        "action_dict = {\n",
        "    0: 'south',\n",
        "    1: 'north',\n",
        "    2: 'east',\n",
        "    3: 'west',\n",
        "    4: 'pick-up',\n",
        "    5: 'drop-off'\n",
        "}\n",
        "\n",
        "for s in range(num_steps+1):\n",
        "\n",
        "    clear_output(wait=True)\n",
        "\n",
        "    print(f\"step: {s} out of {num_steps}\")\n",
        "\n",
        "    # sample a random action from the list of available actions\n",
        "    action = env.action_space.sample()\n",
        "\n",
        "    print(f\"taking {action} {action_dict[action]}\")\n",
        "\n",
        "    # perform this action on the environment\n",
        "    env.step(action)\n",
        "\n",
        "    # print the new state\n",
        "    env.render()\n",
        "\n",
        "\n",
        "    sleep(0.2)\n",
        "\n",
        "# end this instance of the taxi environment\n",
        "env.close()"
      ],
      "execution_count": null,
      "outputs": [
        {
          "output_type": "stream",
          "name": "stdout",
          "text": [
            "step: 99 out of 99\n",
            "taking 5 drop-off\n"
          ]
        }
      ]
    },
    {
      "cell_type": "markdown",
      "source": [
        "## random agent\n"
      ],
      "metadata": {
        "id": "pQ3JH3ZRmnXx"
      }
    },
    {
      "cell_type": "code",
      "source": [
        "import gym\n",
        "from IPython.display import clear_output\n",
        "from time import sleep\n",
        "from gymnasium.utils.save_video import save_video\n",
        "from PIL import Image\n",
        "\n",
        "env = gym.make('Taxi-v3')  # Assuming you're using the Taxi environment, adjust as needed\n",
        "initial_state = env.reset()\n",
        "num_steps = 39\n",
        "action_dict = {\n",
        "    0: 'south',\n",
        "    1: 'north',\n",
        "    2: 'east',\n",
        "    3: 'west',\n",
        "    4: 'pick-up',\n",
        "    5: 'drop-off'\n",
        "}\n",
        "\n",
        "frames = []  # to store frames for video\n",
        "\n",
        "for s in range(num_steps + 1):\n",
        "\n",
        "    clear_output(wait=True)\n",
        "\n",
        "    print(f\"step: {s} out of {num_steps}\")\n",
        "\n",
        "    # sample a random action from the list of available actions\n",
        "    action = env.action_space.sample()\n",
        "\n",
        "    print(f\"taking {action} {action_dict[action]}\")\n",
        "\n",
        "    # perform this action on the environment\n",
        "    _, _, _, _ = env.step(action)\n",
        "\n",
        "    # Render the environment and save the frame\n",
        "    frame = env.render(mode='rgb_array')\n",
        "    img = Image.fromarray(frame)\n",
        "    clear_output(wait=True)\n",
        "    display(img)\n",
        "    frames.append(frame)\n",
        "\n",
        "    sleep(0.2)\n",
        "\n",
        "# Save frames as a video\n",
        "video_folder = './videos'  # specify your desired folder here\n",
        "save_video(frames, video_folder, fps=5, name_prefix=\"taxi_simulation\")\n",
        "\n",
        "# end this instance of the taxi environment\n",
        "env.close()\n"
      ],
      "metadata": {
        "id": "KtSMiEWsVKuZ",
        "outputId": "8f12d334-5c9d-415c-e44d-93d517b01d44",
        "colab": {
          "base_uri": "https://localhost:8080/",
          "height": 454
        }
      },
      "execution_count": null,
      "outputs": [
        {
          "output_type": "display_data",
          "data": {
            "text/plain": [
              "<PIL.Image.Image image mode=RGB size=550x350>"
            ],
            "image/png": "[encoded data removed]"
          },
          "metadata": {}
        },
        {
          "output_type": "stream",
          "name": "stdout",
          "text": [
            "Moviepy - Building video /content/videos/taxi_simulation-episode-0.mp4.\n",
            "Moviepy - Writing video /content/videos/taxi_simulation-episode-0.mp4\n",
            "\n"
          ]
        },
        {
          "output_type": "stream",
          "name": "stderr",
          "text": []
        },
        {
          "output_type": "stream",
          "name": "stdout",
          "text": [
            "Moviepy - Done !\n",
            "Moviepy - video ready /content/videos/taxi_simulation-episode-0.mp4\n"
          ]
        }
      ]
    },
    {
      "cell_type": "code",
      "source": [
        "video_folder = './videos'  # specify your desired folder here\n",
        "fps = 5  # you can adjust this based on your needs\n",
        "save_video(frames, video_folder, fps=fps, name_prefix=\"taxi_simulation\")\n"
      ],
      "metadata": {
        "id": "6sHmvEf7VeVF",
        "outputId": "a3dfa3fb-fca3-4465-f07b-ecfdc81755ac",
        "colab": {
          "base_uri": "https://localhost:8080/"
        }
      },
      "execution_count": null,
      "outputs": [
        {
          "output_type": "stream",
          "name": "stdout",
          "text": [
            "Moviepy - Building video /content/videos/taxi_simulation-episode-0.mp4.\n",
            "Moviepy - Writing video /content/videos/taxi_simulation-episode-0.mp4\n",
            "\n"
          ]
        },
        {
          "output_type": "stream",
          "name": "stderr",
          "text": []
        },
        {
          "output_type": "stream",
          "name": "stdout",
          "text": [
            "Moviepy - Done !\n",
            "Moviepy - video ready /content/videos/taxi_simulation-episode-0.mp4\n"
          ]
        }
      ]
    },
    {
      "cell_type": "code",
      "source": [
        "from gymnasium.wrappers import FlattenObservation\n",
        "env.observation_space.shape\n",
        "wrapped_env = FlattenObservation(env)\n",
        "wrapped_env.observation_space.shape"
      ],
      "metadata": {
        "id": "MJ9J-XkfTplG",
        "outputId": "daf56fe0-0786-4326-ce7a-3eb0c306126b",
        "colab": {
          "base_uri": "https://localhost:8080/"
        }
      },
      "execution_count": null,
      "outputs": [
        {
          "output_type": "execute_result",
          "data": {
            "text/plain": [
              "(500,)"
            ]
          },
          "metadata": {},
          "execution_count": 40
        }
      ]
    },
    {
      "cell_type": "markdown",
      "metadata": {
        "id": "8I-Whw1WxDra"
      },
      "source": [
        "When you run the cell above, you should see your agent making random moves. Not super exciting, but hopefully this helped you get familiar with the OpenAI Gym toolkit.\n",
        "\n",
        "Next, we'll implement the Q-learning algorithm that will enable our agent to learn from rewards."
      ]
    },
    {
      "cell_type": "markdown",
      "metadata": {
        "id": "xcmS8OwLyDL5"
      },
      "source": [
        "# 📖 Q-Learning Agent\n",
        "\n",
        "Q-learning is a reinforcement learning algorithm that seeks to find the best possible next action given its current state, in order to maximise the reward it receives (the 'Q' in Q-learning stands for quality - i.e. how valuable an action is).\n",
        "\n",
        "Let's take the following starting state:\n",
        "\n",
        "![taxi state](https://www.gocoder.one/static/start-state-6a115a72f07cea072c28503d3abf9819.png \"An example Taxi state\")\n",
        "\n",
        "Which action (up, down, left, right, pick-up or drop-off) should it take in order to maximise its reward? (_Note: blue = pick-up location and purple= drop-off destination_)\n",
        "\n",
        "First, let's take a look at how our agent is 'rewarded' for its actions. **Remember in reinforcement learning, we want our agent to take actions that will maximise the possible rewards it receives from its environment.**\n",
        "\n",
        "## 'Taxi' reward system\n",
        "\n",
        "According to the [Taxi documentation](https://gym.openai.com/envs/Taxi-v3/):\n",
        "\n",
        "> _\"…you receive +20 points for a successful drop-off, and lose 1 point for every timestep it takes. There is also a 10 point penalty for illegal pick-up and drop-off actions.\"_\n",
        "\n",
        "Looking back at our original state, the possible actions it can take and the corresponding rewards it will receive are shown below:\n",
        "\n",
        "![taxi rewards](https://www.gocoder.one/static/state-rewards-62ab43a53e07062b531b3199a8bab5b3.png \"Taxi rewards\")\n",
        "\n",
        "In the image above, the agent loses 1 point per timestep it takes. It will also lose 10 points if it uses the pick-up or drop-off action here.\n",
        "\n",
        "We want our agent to go North towards the pick-up location denoted by a blue R- **but how will it know which action to take if they are all equally punishing?**\n",
        "\n",
        "## Exploration\n",
        "\n",
        "Our agent currently has no way of knowing which action will lead it closest to the blue R. This is where trial-and-error comes in - we'll have our agent take random actions, and observe what rewards it gets (i.e. our agent will **explore**).\n",
        "\n",
        "Over many iterations, our agent will have observed that certain sequences of actions will be more rewarding than others. Along the way, our agent will need to keep track of which actions led to what rewards.\n",
        "\n",
        "## Introducing… Q-tables\n",
        "\n",
        "A Q-table is simply a look-up table storing values representing the maximum expected future rewards our agent can expect for a certain action in a certain state (_known as Q-values_). It will tell our agent that when it encounters a certain state, some actions are more likely than others to lead to higher rewards. It becomes a 'cheatsheet' telling our agent what the best action to take is.\n",
        "\n",
        "The image below illustrates what our 'Q-table' will look like:\n",
        "\n",
        "-   Each row corresponds to a unique state in the 'Taxi' environment\n",
        "-   Each column corresponds to an action our agent can take\n",
        "-   Each cell corresponds to the Q-value for that state-action pair - a higher Q-value means a higher maximum reward our agent can expect to get if it takes that action in that state.\n",
        "\n",
        "![Q table](https://www.gocoder.one/static/q-table-9461cc903f50b78d757ea30aeb3eb8bc.png \"Q table\")\n",
        "\n",
        "Before we begin training our agent, we'll need to initialize our Q-table as so:"
      ]
    },
    {
      "cell_type": "code",
      "metadata": {
        "id": "BVvgYgquUKBg",
        "outputId": "065ba4e5-9a30-4c4c-f07d-053f1bf12402",
        "colab": {
          "base_uri": "https://localhost:8080/"
        }
      },
      "source": [
        "state_size = env.observation_space.n  # total number of states (S)\n",
        "action_size = env.action_space.n      # total number of actions (A)\n",
        "\n",
        "# initialize a qtable with 0's for all Q-values\n",
        "qtable = np.zeros((state_size, action_size))\n",
        "\n",
        "print(f\"Q table: {qtable}\")"
      ],
      "execution_count": null,
      "outputs": [
        {
          "output_type": "stream",
          "name": "stdout",
          "text": [
            "Q table: [[0. 0. 0. 0. 0. 0.]\n",
            " [0. 0. 0. 0. 0. 0.]\n",
            " [0. 0. 0. 0. 0. 0.]\n",
            " ...\n",
            " [0. 0. 0. 0. 0. 0.]\n",
            " [0. 0. 0. 0. 0. 0.]\n",
            " [0. 0. 0. 0. 0. 0.]]\n"
          ]
        }
      ]
    },
    {
      "cell_type": "markdown",
      "metadata": {
        "id": "F0uvTrFXmJk7"
      },
      "source": [
        "As our agent explores, it will update the Q-table with the Q-values it finds. To calculate our Q-values, we'll introduce the Q-learning algorithm."
      ]
    },
    {
      "cell_type": "markdown",
      "metadata": {
        "id": "mdpsBFdJm9ve"
      },
      "source": [
        "# Q-Learning Algorithm\n",
        "\n",
        "The Q-learning algorithm is given below. We won't go into details, but you can read more about it in [Ch 6 of Sutton & Barto (2018)](http://www.incompleteideas.net/book/RLbook2018trimmed.pdf).\n",
        "\n",
        "![Q learning algorithm](https://www.gocoder.one/static/q-learning-algorithm-84b84bb5dc16ba8097e31aff7ea42748.png \"The Q learning algorithm\")\n",
        "\n",
        "The Q-learning algorithm will help our agent **update the current Q-value ($Q(S_t,A_t)$) with its observations after taking an action.** I.e. increase Q if it encountered a positive reward, or decrease Q if it encountered a negative one.\n",
        "\n",
        "Note that in Taxi, our agent doesn't receive a positive reward until it successfully drops off a passenger (_+20 points_). Hence even if our agent is heading in the correct direction, there will be a delay in the positive reward it should receive. The following term in the Q-learning equation addresses this:\n",
        "\n",
        "![maximum q](https://www.gocoder.one/static/max-q-e593ddcec76cda87ed189c31d60837b6.png \"Max Q value\")\n",
        "\n",
        "This term adjusts our current Q-value to include a portion of the rewards it may receive sometime in the future (St+1). The 'a' term refers to all the possible actions available for that state. The equation also contains two hyperparameters which we can specify:\n",
        "\n",
        "1. Learning rate (α): how easily the agent should accept new information over previously learnt information\n",
        "2. Discount factor (γ): how much the agent should take into consideration the rewards it could receive in the future versus its immediate reward\n",
        "\n",
        "Here's our implementation of the Q-learning algorithm:"
      ]
    },
    {
      "cell_type": "code",
      "metadata": {
        "id": "XsOWYTX4VsDz",
        "outputId": "c3a9e518-944f-4819-95d2-5b42f57d46ac",
        "colab": {
          "base_uri": "https://localhost:8080/"
        }
      },
      "source": [
        "# hyperparameters to tune\n",
        "learning_rate = 0.9\n",
        "discount_rate = 0.8\n",
        "\n",
        "# dummy variables\n",
        "reward = 10 # R_(t+1)\n",
        "state = env.observation_space.sample()      # S_t\n",
        "action = env.action_space.sample()          # A_t\n",
        "new_state = env.observation_space.sample()  # S_(t+1)\n",
        "\n",
        "# Qlearning algorithm: Q(s,a) := Q(s,a) + learning_rate * (reward + discount_rate * max Q(s',a') - Q(s,a))\n",
        "qtable[state, action] += learning_rate * (reward + discount_rate * np.max(qtable[new_state,:]) - qtable[state,action])\n",
        "\n",
        "print(f\"Q-value for (state, action) pair ({state}, {action}): {qtable[state,action]}\")"
      ],
      "execution_count": null,
      "outputs": [
        {
          "output_type": "stream",
          "name": "stdout",
          "text": [
            "Q-value for (state, action) pair (216, 0): 9.0\n"
          ]
        }
      ]
    },
    {
      "cell_type": "markdown",
      "metadata": {
        "id": "Bx5IMA1idW9X"
      },
      "source": [
        "## Exploration vs Exploitation Trade-off\n",
        "\n",
        "We can let our agent explore to update our Q-table using the Q-learning algorithm. As our agent learns more about the environment, we can let it use this knowledge to take more optimal actions and converge faster - known as **exploitation**.\n",
        "\n",
        "During exploitation, our agent will look at its Q-table and select the action with the highest Q-value (instead of a random action). Over time, our agent will need to explore less, and start exploiting what it knows instead.\n",
        "\n",
        "Here's our implementation of an exploration-exploitation strategy:"
      ]
    },
    {
      "cell_type": "code",
      "metadata": {
        "id": "3aorBEvYdSLr"
      },
      "source": [
        "# dummy variables\n",
        "episode = random.randint(0,500)\n",
        "qtable = np.random.randn(env.observation_space.sample(), env.action_space.sample())\n",
        "\n",
        "# hyperparameters\n",
        "epsilon = 1.0     # probability that our agent will explore\n",
        "decay_rate = 0.01 # of epsilon\n",
        "\n",
        "if random.uniform(0,1) < epsilon:\n",
        "    # explore\n",
        "    action = env.action_space.sample()\n",
        "else:\n",
        "    # exploit\n",
        "    action = np.argmax(qtable[state,:])\n",
        "\n",
        "# epsilon decreases exponentially --> our agent will explore less and less\n",
        "epsilon = np.exp(-decay_rate*episode)"
      ],
      "execution_count": null,
      "outputs": []
    },
    {
      "cell_type": "markdown",
      "metadata": {
        "id": "G_zL2Vrd1yLv"
      },
      "source": [
        "In the example above, we set some value `epsilon` between 0 and 1. If `epsilon` is 0.7, there is a 70% chance that on this step our agent will explore instead of exploit. `epsilon` exponentially decays with each step, so that our agent explores less and less over time."
      ]
    },
    {
      "cell_type": "markdown",
      "metadata": {
        "id": "s5mA3SflarKs"
      },
      "source": [
        "# Bringing it all together\n",
        "\n",
        "We're done with all the building blocks needed for our reinforcement learning agent. The process for training our agent will look like:\n",
        "\n",
        "1. Initialising our Q-table with 0's for all Q-values\n",
        "2. Let our agent play Taxi over a large number of games\n",
        "3. Continuously update the Q-table using the Q-learning algorithm and an exploration-exploitation strategy\n",
        "\n",
        "Here's the full implementation:"
      ]
    },
    {
      "cell_type": "code",
      "metadata": {
        "id": "SiXAK2OdpteR",
        "outputId": "29a9da2a-0766-440b-df50-2c9a957f2d54",
        "colab": {
          "base_uri": "https://localhost:8080/"
        }
      },
      "source": [
        "class bcolors:\n",
        "    RED= '\\u001b[31m'\n",
        "    GREEN= '\\u001b[32m'\n",
        "    RESET= '\\u001b[0m'\n",
        "\n",
        "# create Taxi environment\n",
        "env = gym.make('Taxi-v3')\n",
        "\n",
        "# initialize q-table\n",
        "state_size = env.observation_space.n\n",
        "action_size = env.action_space.n\n",
        "qtable = np.zeros((state_size, action_size))\n",
        "\n",
        "# hyperparameters\n",
        "learning_rate = 0.9\n",
        "discount_rate = 0.8\n",
        "epsilon = 1.0\n",
        "decay_rate= 0.005\n",
        "\n",
        "# training variables\n",
        "num_episodes = 2000\n",
        "max_steps = 99 # per episode\n",
        "\n",
        "print(\"AGENT IS TRAINING...\")\n",
        "\n",
        "for episode in range(num_episodes):\n",
        "\n",
        "\t# Reset the environment\n",
        "\tstate = env.reset()\n",
        "\tstep = 0\n",
        "\tdone = False\n",
        "\tframes = []\n",
        "\tfor step in range(max_steps):\n",
        "\n",
        "\t\t# Exploration-exploitation tradeoff\n",
        "\t\tif random.uniform(0,1) < epsilon:\n",
        "\t\t\t# Explore\n",
        "\t\t\taction = env.action_space.sample()\n",
        "\t\telse:\n",
        "\t\t\t# Exploit\n",
        "\t\t\taction = np.argmax(qtable[state,:])\n",
        "\n",
        "\t\t# Take an action and observe the reward\n",
        "\t\t# int(s), r, t, False, {\"prob\": p, \"action_mask\": self.action_mask(s)}\n",
        "\t\tnew_state, reward, done, info = env.step(action)\n",
        "\n",
        "\t\t# Q-learning algorithm\n",
        "\t\tqtable[state,action] = qtable[state,action] + learning_rate * (reward + discount_rate * np.max(qtable[new_state,:])-qtable[state,action])\n",
        "\n",
        "\t\t# Update to our new state\n",
        "\t\tstate = new_state\n",
        "\n",
        "\t\t# if done, finish episode\n",
        "\t\tif done == True:\n",
        "\t\t\tbreak\n",
        "\n",
        "\t\t# Render the environment and save the frame\n",
        "\t\tframe = env.render(mode='rgb_array')\n",
        "\t\timg = Image.fromarray(frame)\n",
        "\t\tclear_output(wait=True)\n",
        "\t\t# display(img)\n",
        "\t\tframes.append(frame)\n",
        "\n",
        "\t# Decrease epsilon\n",
        "\tepsilon = np.exp(-decay_rate*episode)\n",
        "\n",
        "\t# Save frames as a video\n",
        "\tvideo_folder = './videos'  # specify your desired folder here\n",
        "\tsave_video(frames, video_folder, fps=5, name_prefix=f\"taxi_simulation_qlearn{episode}\")\n",
        "\n",
        "# Get ready to watch our trained agent\n",
        "clear_output()\n",
        "print(f\"Our Q-table: {qtable}\")\n",
        "print(f\"Training completed over {num_episodes} episodes\")\n",
        "input(\"Press Enter to see our trained taxi agent\")\n",
        "sleep(1)\n",
        "clear_output()\n",
        "# env.close()\n",
        "episodes_to_preview = 3\n",
        "for episode in range(episodes_to_preview):\n",
        "\n",
        "\t# Reset the environment\n",
        "\tstate = env.reset()\n",
        "\tstep = 0\n",
        "\tdone = False\n",
        "\tepisode_rewards = 0\n",
        "\n",
        "\tfor step in range(num_steps):\n",
        "\t\t# clear screen\n",
        "\t\tclear_output(wait=True)\n",
        "\n",
        "\t\tprint(f\"TRAINED AGENT\")\n",
        "\t\tprint(f\"+++++EPISODE {episode+1}+++++\")\n",
        "\t\tprint(f\"Step {step+1}\")\n",
        "\n",
        "\t\t# Exploit\n",
        "\t\taction = np.argmax(qtable[state,:])\n",
        "\n",
        "\t\t# Take an action and observe the reward\n",
        "\t\tnew_state, reward, done, info = env.step(action)\n",
        "\n",
        "\t\t# Accumulate our rewards\n",
        "\t\tepisode_rewards += reward\n",
        "\n",
        "\t\tenv.render()\n",
        "\t\tprint(\"\")\n",
        "\t\tif episode_rewards < 0:\n",
        "\t\t\tprint(f\"Score: {bcolors.RED}{episode_rewards}{bcolors.RESET}\")\n",
        "\t\telse:\n",
        "\t\t\tprint(f\"Score: {bcolors.GREEN}{episode_rewards}{bcolors.RESET}\")\n",
        "\t\tsleep(0.5)\n",
        "\n",
        "\t\t# Update to our new state\n",
        "\t\tstate = new_state\n",
        "\n",
        "\t\t# if done, finish episode\n",
        "\t\tif done == True:\n",
        "\t\t\tbreak\n",
        "\n",
        "# Close the Taxi environment\n",
        "env.close()"
      ],
      "execution_count": null,
      "outputs": [
        {
          "metadata": {
            "tags": null
          },
          "name": "stdout",
          "output_type": "stream",
          "text": [
            "Our Q-table: [[  0.           0.           0.           0.           0.\n",
            "    0.        ]\n",
            " [ -2.96717113  -2.46291385  -3.66701801  -2.46256345  -1.6445568\n",
            "  -12.14986626]\n",
            " [ -3.26507755  -3.33269757  -3.25908374  -0.83283947   0.24288\n",
            "  -12.16853259]\n",
            " ...\n",
            " [  2.59196579   5.24         3.13136172   1.51061073  -5.86985372\n",
            "   -6.29962837]\n",
            " [ -3.89065843  -1.12440358  -3.85038166  -3.76864706 -12.3439416\n",
            "  -12.60141352]\n",
            " [ -0.99        -0.9         -0.9         15.          -9.\n",
            "   -9.99      ]]\n",
            "Training completed over 2000 episodes\n"
          ]
        }
      ]
    },
    {
      "cell_type": "markdown",
      "metadata": {
        "id": "m_tmtN9koho8"
      },
      "source": [
        "# 👏 What's next?\n",
        "\n",
        "There are many other environments available on OpenAI Gym for you to try (e.g. [Frozen Lake](https://gym.openai.com/envs/FrozenLake-v0/)). You can also try optimising the implementation above to solve Taxi in fewer episodes.\n",
        "\n",
        "Some other useful resources include:\n",
        "-   [DeepMind x UCL Reinforcement Learning Lecture Series [2021]](https://deepmind.com/learning-resources/reinforcement-learning-series-2021)\n",
        "-   [A (Long) Peek into Reinforcement Learning](https://lilianweng.github.io/lil-log/2018/02/19/a-long-peek-into-reinforcement-learning.html) by Lilian Weng\n",
        "-   [A good article on RL and its real-world applications](https://www.altexsoft.com/blog/datascience/reinforcement-learning-explained-overview-comparisons-and-applications-in-business/)\n",
        "-   [AlphaGo full documentary](https://www.youtube.com/watch?v=WXuK6gekU1Y) (on Youtube)\n",
        "-   [Reinforcement Learning](http://www.incompleteideas.net/book/RLbook2018trimmed.pdf) by Sutton and Barto\n",
        "-   [Hands-on introduction to deep reinforcement learning](https://www.gocoder.one/blog/hands-on-introduction-to-deep-reinforcement-learning)"
      ]
    }
  ]
}